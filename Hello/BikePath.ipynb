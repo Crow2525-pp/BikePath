{
    "cells": [
        {
            "cell_type": "code",
            "execution_count": 53,
            "source": [
                "import requests\r\n",
                "import pandas as pd\r\n",
                "import matplotlib.pyplot as plt\r\n",
                "import matplotlib.dates as mdates\r\n",
                "from matplotlib.dates import DateFormatter\r\n",
                "import zipfile, os, re\r\n",
                "import glob"
            ],
            "outputs": [],
            "metadata": {}
        },
        {
            "cell_type": "code",
            "execution_count": 38,
            "source": [
                "#assign variables to vicroads data sources\r\n",
                "#header\r\n",
                "VicRoadsHeader_URL = 'https://vicroadsopendatastorehouse.vicroads.vic.gov.au/opendata/Traffic_Measurement/Bicycle_Volume_and_Speed/VicRoads_Bike_Site_Number_Listing.xlsx'\r\n",
                "\r\n",
                "#Yearly Data\r\n",
                "Bicycle_Vol = {'Bicycle_Vol_2021_URL' : 'https://vicroadsopendatastorehouse.vicroads.vic.gov.au/opendata/Traffic_Measurement/Bicycle_Volume_and_Speed/Bicycle_Volume_Speed_2021.zip',\r\n",
                "               'Bicycle_Vol_2020_URL' : 'https://vicroadsopendatastorehouse.vicroads.vic.gov.au/opendata/Traffic_Measurement/Bicycle_Volume_and_Speed/Bicycle_Volume_Speed_2020.zip',\r\n",
                "               'Bicycle_Vol_2019_URL' : 'https://vicroadsopendatastorehouse.vicroads.vic.gov.au/opendata/Traffic_Measurement/Bicycle_Volume_and_Speed/Bicycle_Volume_Speed_2019.zip',\r\n",
                "               'Bicycle_Vol_2018_URL' : 'https://vicroadsopendatastorehouse.vicroads.vic.gov.au/opendata/Traffic_Measurement/Bicycle_Volume_and_Speed/Bicycle_Volume_Speed_2018.zip',\r\n",
                "               'Bicycle_Vol_2017_URL' : 'https://vicroadsopendatastorehouse.vicroads.vic.gov.au/opendata/Traffic_Measurement/Bicycle_Volume_and_Speed/Bicycle_Volume_Speed_2017.zip',\r\n",
                "               'Bicycle_Vol_2016_URL' : 'https://vicroadsopendatastorehouse.vicroads.vic.gov.au/opendata/Traffic_Measurement/Bicycle_Volume_and_Speed/Bicycle_Volume_Speed_2016.zip',\r\n",
                "               'Bicycle_Vol_2015_URL' : 'https://vicroadsopendatastorehouse.vicroads.vic.gov.au/opendata/Traffic_Measurement/Bicycle_Volume_and_Speed/Bicycle_Volume_speed_2015.zip'}"
            ],
            "outputs": [],
            "metadata": {}
        },
        {
            "cell_type": "code",
            "execution_count": 39,
            "source": [
                "#create folders for data dumps\r\n",
                "\r\n",
                "#ensure home directory is at home...\r\n",
                "os.chdir(os.getcwd())\r\n",
                "home = os.getcwd()\r\n",
                "print(home)\r\n",
                "\r\n",
                "#create \"data\" folder\r\n",
                "datafolder = os.path.join(home,'data') \r\n",
                "if os.path.exists(datafolder) == False:\r\n",
                "    os.mkdir(datafolder)\r\n",
                "    print(\"Made directory: \" + datafolder)"
            ],
            "outputs": [
                {
                    "output_type": "stream",
                    "name": "stdout",
                    "text": [
                        "c:\\Users\\Study\\Documents\\Github\\Hello\n"
                    ]
                }
            ],
            "metadata": {}
        },
        {
            "cell_type": "code",
            "execution_count": 40,
            "source": [
                "#download header and write it to header excel file\r\n",
                "resp = requests.get(VicRoadsHeader_URL)\r\n",
                "saveFile = os.path.join(datafolder, 'VicRoadsHeader.xlsx')\r\n",
                "\r\n",
                "with open(saveFile,'wb') as output:\r\n",
                "        output.write(resp.content)\r\n",
                "        print(\"File Saved: \" + saveFile)"
            ],
            "outputs": [
                {
                    "output_type": "stream",
                    "name": "stdout",
                    "text": [
                        "File Saved: c:\\Users\\Study\\Documents\\Github\\Hello\\data\\VicRoadsHeader.xlsx\n"
                    ]
                }
            ],
            "metadata": {}
        },
        {
            "cell_type": "code",
            "execution_count": 41,
            "source": [
                "df = pd.read_excel(saveFile)\r\n",
                "print(df.head())"
            ],
            "outputs": [
                {
                    "output_type": "stream",
                    "name": "stdout",
                    "text": [
                        "   SITE_ID  TFM_ID  STRT_LAT  STRT_LONG                       GPS  SITE_NAME  \\\n",
                        "0     6411   59437 -37.77231  144.99042  [-37.772347 +144.990631]  D208X6411   \n",
                        "1     6411   59438 -37.77235  144.99077  [-37.772347 +144.990631]  D208X6411   \n",
                        "2     6415   59485 -37.82713  144.98511  [-37.827009 +144.984261]  D208X6415   \n",
                        "3     6415   59486 -37.82714  144.98513  [-37.827009 +144.984261]  D208X6415   \n",
                        "4     6419   59458 -37.75829  144.98039  [-37.758216 +144.980308]  D208X6419   \n",
                        "\n",
                        "                                            TFM_DESC BEARING_DESC DATA_SRC_CD  \\\n",
                        "0  (BIKE PATH) ST. GEORGES RD N BD 28M S OF SUMNE...  NORTH BOUND       ACBYC   \n",
                        "1  (BIKE PATH) ST. GEORGES RD S BD 28M S OF SUMNE...  SOUTH BOUND       ACBYC   \n",
                        "2  (BIKE PATH) NORTH BANK E BD 75M W OF MORELL BR...   EAST BOUND       ACBYC   \n",
                        "3  (BIKE PATH) NORTH BANK W BD 75M W OF MORELL BR...   WEST BOUND       ACBYC   \n",
                        "4  (BIKE PATH) MERRI CREEK TRAIL N BD S OF MORELA...  NORTH BOUND       ACBYC   \n",
                        "\n",
                        "       RGN_SHORT_NM                     Comments  \n",
                        "0  METRO NORTH WEST  COMBINED BIDIRECTIONAL SITE  \n",
                        "1  METRO NORTH WEST  COMBINED BIDIRECTIONAL SITE  \n",
                        "2  METRO NORTH WEST  COMBINED BIDIRECTIONAL SITE  \n",
                        "3  METRO NORTH WEST  COMBINED BIDIRECTIONAL SITE  \n",
                        "4  METRO NORTH WEST  COMBINED BIDIRECTIONAL SITE  \n"
                    ]
                }
            ],
            "metadata": {}
        },
        {
            "cell_type": "code",
            "execution_count": 42,
            "source": [
                "#create an empty list to idenitfy the list zips once created.\r\n",
                "Bicycle_Vol_Zip_Files = []\r\n",
                "\r\n",
                "from itertools import islice\r\n",
                "\r\n",
                "def take(n, iterable):\r\n",
                "    \"Return first n items of the iterable as a list\"\r\n",
                "    return list(islice(iterable, n))\r\n",
                "\r\n",
                "n_items = take(1, Bicycle_Vol.items()) #subset the list to just one zip file for testing purposes\r\n",
                "print(n_items)\r\n",
                "#download zips from website and label using as subset of the dictionary for the URLs  \r\n",
                "\r\n",
                "for key, value in n_items:\r\n",
                "    resp = requests.get(value)\r\n",
                "    saveFile = os.path.join(datafolder, key[:-4] + '.zip')\r\n",
                "    with open(saveFile,'wb') as output: #remove the URL part of the key\r\n",
                "        output.write(resp.content)\r\n",
                "        print(\"File Saved: \" + saveFile)\r\n",
                "        Bicycle_Vol_Zip_Files.append(saveFile) #Populate the empty list with filenames."
            ],
            "outputs": [
                {
                    "output_type": "stream",
                    "name": "stdout",
                    "text": [
                        "[('Bicycle_Vol_2021_URL', 'https://vicroadsopendatastorehouse.vicroads.vic.gov.au/opendata/Traffic_Measurement/Bicycle_Volume_and_Speed/Bicycle_Volume_Speed_2021.zip')]\n",
                        "File Saved: c:\\Users\\Study\\Documents\\Github\\Hello\\data\\Bicycle_Vol_2021.zip\n"
                    ]
                }
            ],
            "metadata": {}
        },
        {
            "cell_type": "code",
            "execution_count": 43,
            "source": [
                "def extract_nested_zip(zippedFile, toFolder):\r\n",
                "       #Unzip a zip file and its contents, including nested zip files\r\n",
                "       # Delete the zip file(s) after extraction \r\n",
                "       # Credit - Stackoverflow - ronnydw answered May 10 '17 at 14:47\r\n",
                "    \r\n",
                "    #print(\"Opening File =\" + zippedFile + \" | Extracting to Folder = \" +  toFolder)\r\n",
                "    \r\n",
                "    with zipfile.ZipFile(zippedFile, 'r') as zfile:\r\n",
                "        zfile.extractall(path=toFolder)\r\n",
                "    os.remove(zippedFile) #Removing the zip once extracted.\r\n",
                "\r\n",
                "    #search the dir for zips and send it back to the start of the function.\r\n",
                "    for root, dirs, files in os.walk(toFolder):\r\n",
                "        for filename in files:\r\n",
                "            #print(os.path.join(toFolder, filename))\r\n",
                "            if re.search(r'zip$', filename):\r\n",
                "                fileSpec = os.path.join(root, filename)\r\n",
                "                try:\r\n",
                "                    extract_nested_zip(fileSpec, root)\r\n",
                "                except:\r\n",
                "                    print(\"Error! - Couldn't find the file: \" + zippedFile)  \r\n",
                "                    break                                                           #this is a bad solution.  Doesn't really work. Not sure why the program doesn't determine that there is no more zips."
            ],
            "outputs": [],
            "metadata": {}
        },
        {
            "cell_type": "code",
            "execution_count": 44,
            "source": [
                "#extract all data into the data folder.  Delete all zips and keep going until there are no more zips.\r\n",
                "for File in Bicycle_Vol_Zip_Files:\r\n",
                "    extract_nested_zip(File, datafolder)"
            ],
            "outputs": [
                {
                    "output_type": "stream",
                    "name": "stdout",
                    "text": [
                        "Error! - Couldn't find the file: c:\\Users\\Study\\Documents\\Github\\Hello\\data\\2021-01-26_IND.zip\n",
                        "Error! - Couldn't find the file: c:\\Users\\Study\\Documents\\Github\\Hello\\data\\2021-01-25_IND.zip\n",
                        "Error! - Couldn't find the file: c:\\Users\\Study\\Documents\\Github\\Hello\\data\\2021-01-20_IND.zip\n",
                        "Error! - Couldn't find the file: c:\\Users\\Study\\Documents\\Github\\Hello\\data\\2021-01-19_IND.zip\n",
                        "Error! - Couldn't find the file: c:\\Users\\Study\\Documents\\Github\\Hello\\data\\2021-01-18_IND.zip\n",
                        "Error! - Couldn't find the file: c:\\Users\\Study\\Documents\\Github\\Hello\\data\\2021-01-12_IND.zip\n",
                        "Error! - Couldn't find the file: c:\\Users\\Study\\Documents\\Github\\Hello\\data\\2021-01-11_IND.zip\n",
                        "Error! - Couldn't find the file: c:\\Users\\Study\\Documents\\Github\\Hello\\data\\2021-01-04_IND.zip\n",
                        "Error! - Couldn't find the file: c:\\Users\\Study\\Documents\\Github\\Hello\\data\\Bicycle_Vol_2021.zip\n"
                    ]
                }
            ],
            "metadata": {}
        },
        {
            "cell_type": "code",
            "execution_count": 45,
            "source": [
                "#clean up any CSV files that don't have an extension and make it a CSV file\r\n",
                "for root, dirs, files in os.walk(datafolder):\r\n",
                "    for filename in files:\r\n",
                "        filename_ext = os.path.splitext(filename)[1]\r\n",
                "        if re.search('\\d', filename_ext):  #check the extension for numbers to identify bad data files with numbers as extensions\r\n",
                "            os.rename(os.path.join(datafolder,filename), os.path.join(datafolder,filename + '.csv'))"
            ],
            "outputs": [],
            "metadata": {}
        },
        {
            "cell_type": "code",
            "execution_count": 46,
            "source": [
                "#join all CSV's into a dataframe\r\n",
                "all_files = glob.glob(datafolder + \"/*.csv\")\r\n",
                "\r\n",
                "li = []\r\n",
                "\r\n",
                "for filename in all_files:\r\n",
                "    df = pd.read_csv(filename, index_col=None, header=0)\r\n",
                "    li.append(df)\r\n",
                "\r\n",
                "frame = pd.concat(li, axis=0, ignore_index=True)"
            ],
            "outputs": [],
            "metadata": {}
        },
        {
            "cell_type": "code",
            "execution_count": 47,
            "source": [
                "print(frame.head())\r\n"
            ],
            "outputs": [
                {
                    "output_type": "stream",
                    "name": "stdout",
                    "text": [
                        "  DATA_TYPE TIS_DATA_REQUEST SITE_XN_ROUTE LOC_LEG        DATE      TIME  \\\n",
                        "0       IND              208         10223   59443  28/12/2020  05:29:22   \n",
                        "1       IND              208         10223   59443  28/12/2020  05:33:26   \n",
                        "2       IND              208         10223   59444  28/12/2020  05:40:45   \n",
                        "3       IND              208         10223   59444  28/12/2020  05:42:57   \n",
                        "4       IND              208         10223   59443  28/12/2020  05:44:19   \n",
                        "\n",
                        "  CLASS LANE  SPEED  WHEELBASE  HEADWAY     GAP AXLE  AXLE_GROUPING  RHO  \\\n",
                        "0    15    0   30.2        1.1   5166.7  5166.7    2            1.0  1.0   \n",
                        "1    15    0   29.4        1.0    244.2   244.1    2            1.0  1.0   \n",
                        "2    15    1   13.2        1.0   5849.7  5849.9    2            1.0  1.0   \n",
                        "3    15    1   14.9        1.1    131.9   131.7    2            1.0  1.0   \n",
                        "4    15    0   32.9        1.0    652.5   652.4    2            1.0  1.0   \n",
                        "\n",
                        "  VEHICLE DIRECTION  \n",
                        "0   CYCLE         N  \n",
                        "1   CYCLE         N  \n",
                        "2   CYCLE         S  \n",
                        "3   CYCLE         S  \n",
                        "4   CYCLE         N  \n"
                    ]
                }
            ],
            "metadata": {}
        },
        {
            "cell_type": "code",
            "execution_count": 48,
            "source": [
                "frame.describe()"
            ],
            "outputs": [
                {
                    "output_type": "execute_result",
                    "data": {
                        "text/html": [
                            "<div>\n",
                            "<style scoped>\n",
                            "    .dataframe tbody tr th:only-of-type {\n",
                            "        vertical-align: middle;\n",
                            "    }\n",
                            "\n",
                            "    .dataframe tbody tr th {\n",
                            "        vertical-align: top;\n",
                            "    }\n",
                            "\n",
                            "    .dataframe thead th {\n",
                            "        text-align: right;\n",
                            "    }\n",
                            "</style>\n",
                            "<table border=\"1\" class=\"dataframe\">\n",
                            "  <thead>\n",
                            "    <tr style=\"text-align: right;\">\n",
                            "      <th></th>\n",
                            "      <th>SPEED</th>\n",
                            "      <th>WHEELBASE</th>\n",
                            "      <th>HEADWAY</th>\n",
                            "      <th>GAP</th>\n",
                            "      <th>AXLE_GROUPING</th>\n",
                            "      <th>RHO</th>\n",
                            "    </tr>\n",
                            "  </thead>\n",
                            "  <tbody>\n",
                            "    <tr>\n",
                            "      <th>count</th>\n",
                            "      <td>8.142235e+06</td>\n",
                            "      <td>7.635214e+06</td>\n",
                            "      <td>7.635214e+06</td>\n",
                            "      <td>7.635214e+06</td>\n",
                            "      <td>7.635214e+06</td>\n",
                            "      <td>8.142235e+06</td>\n",
                            "    </tr>\n",
                            "    <tr>\n",
                            "      <th>mean</th>\n",
                            "      <td>2.104658e+01</td>\n",
                            "      <td>1.025241e+00</td>\n",
                            "      <td>2.326915e+02</td>\n",
                            "      <td>2.360331e+02</td>\n",
                            "      <td>1.000048e+00</td>\n",
                            "      <td>9.846436e-01</td>\n",
                            "    </tr>\n",
                            "    <tr>\n",
                            "      <th>std</th>\n",
                            "      <td>6.576521e+00</td>\n",
                            "      <td>9.237104e-02</td>\n",
                            "      <td>1.625527e+03</td>\n",
                            "      <td>1.960575e+03</td>\n",
                            "      <td>6.942295e-03</td>\n",
                            "      <td>8.603546e-02</td>\n",
                            "    </tr>\n",
                            "    <tr>\n",
                            "      <th>min</th>\n",
                            "      <td>3.000000e-01</td>\n",
                            "      <td>0.000000e+00</td>\n",
                            "      <td>0.000000e+00</td>\n",
                            "      <td>0.000000e+00</td>\n",
                            "      <td>1.000000e+00</td>\n",
                            "      <td>0.000000e+00</td>\n",
                            "    </tr>\n",
                            "    <tr>\n",
                            "      <th>25%</th>\n",
                            "      <td>1.690000e+01</td>\n",
                            "      <td>1.000000e+00</td>\n",
                            "      <td>6.700000e+00</td>\n",
                            "      <td>6.500000e+00</td>\n",
                            "      <td>1.000000e+00</td>\n",
                            "      <td>1.000000e+00</td>\n",
                            "    </tr>\n",
                            "    <tr>\n",
                            "      <th>50%</th>\n",
                            "      <td>2.090000e+01</td>\n",
                            "      <td>1.000000e+00</td>\n",
                            "      <td>4.660000e+01</td>\n",
                            "      <td>4.640000e+01</td>\n",
                            "      <td>1.000000e+00</td>\n",
                            "      <td>1.000000e+00</td>\n",
                            "    </tr>\n",
                            "    <tr>\n",
                            "      <th>75%</th>\n",
                            "      <td>2.510000e+01</td>\n",
                            "      <td>1.100000e+00</td>\n",
                            "      <td>1.455000e+02</td>\n",
                            "      <td>1.453000e+02</td>\n",
                            "      <td>1.000000e+00</td>\n",
                            "      <td>1.000000e+00</td>\n",
                            "    </tr>\n",
                            "    <tr>\n",
                            "      <th>max</th>\n",
                            "      <td>1.592000e+02</td>\n",
                            "      <td>1.440000e+01</td>\n",
                            "      <td>8.640000e+04</td>\n",
                            "      <td>6.357559e+05</td>\n",
                            "      <td>3.000000e+00</td>\n",
                            "      <td>1.380000e+00</td>\n",
                            "    </tr>\n",
                            "  </tbody>\n",
                            "</table>\n",
                            "</div>"
                        ],
                        "text/plain": [
                            "              SPEED     WHEELBASE       HEADWAY           GAP  AXLE_GROUPING  \\\n",
                            "count  8.142235e+06  7.635214e+06  7.635214e+06  7.635214e+06   7.635214e+06   \n",
                            "mean   2.104658e+01  1.025241e+00  2.326915e+02  2.360331e+02   1.000048e+00   \n",
                            "std    6.576521e+00  9.237104e-02  1.625527e+03  1.960575e+03   6.942295e-03   \n",
                            "min    3.000000e-01  0.000000e+00  0.000000e+00  0.000000e+00   1.000000e+00   \n",
                            "25%    1.690000e+01  1.000000e+00  6.700000e+00  6.500000e+00   1.000000e+00   \n",
                            "50%    2.090000e+01  1.000000e+00  4.660000e+01  4.640000e+01   1.000000e+00   \n",
                            "75%    2.510000e+01  1.100000e+00  1.455000e+02  1.453000e+02   1.000000e+00   \n",
                            "max    1.592000e+02  1.440000e+01  8.640000e+04  6.357559e+05   3.000000e+00   \n",
                            "\n",
                            "                RHO  \n",
                            "count  8.142235e+06  \n",
                            "mean   9.846436e-01  \n",
                            "std    8.603546e-02  \n",
                            "min    0.000000e+00  \n",
                            "25%    1.000000e+00  \n",
                            "50%    1.000000e+00  \n",
                            "75%    1.000000e+00  \n",
                            "max    1.380000e+00  "
                        ]
                    },
                    "metadata": {},
                    "execution_count": 48
                }
            ],
            "metadata": {}
        },
        {
            "cell_type": "markdown",
            "source": [
                "So... this data shows we have 7.63M rows of data. Some data is not consistent across all files.  So we might have incomplete files.  This is only one year too...\r\n",
                "How do i ensure I don't have duplicates that have gone through at the same time?\r\n",
                "How cool would it be to see a map of melbourne and see a blink every time a bike went past a counter?\r\n",
                "How many people are recorded at different areas and disappear from the next likely stop?  What are the possibilities for those people?  Stop at the shops?  Go an alterative route?"
            ],
            "metadata": {}
        },
        {
            "cell_type": "code",
            "execution_count": 59,
            "source": [
                "#frame['VEHICLE'].describe() \r\n",
                "frame['DATE'].describe()"
            ],
            "outputs": [
                {
                    "output_type": "execute_result",
                    "data": {
                        "text/plain": [
                            "count        8142235\n",
                            "unique           413\n",
                            "top       28/08/2021\n",
                            "freq           61208\n",
                            "Name: DATE, dtype: object"
                        ]
                    },
                    "metadata": {},
                    "execution_count": 59
                }
            ],
            "metadata": {}
        },
        {
            "cell_type": "code",
            "execution_count": 68,
            "source": [
                "frame['DATE'] = pd.to_datetime(frame['DATE'])\r\n",
                "speeddf = frame.groupby(frame['DATE'].dt.strftime('%B'))['SPEED'].mean()\r\n",
                "#need to add median, std, top 25, count, top 75, max"
            ],
            "outputs": [],
            "metadata": {}
        },
        {
            "cell_type": "code",
            "execution_count": 67,
            "source": [
                "fig, ax = plt.subplots()\r\n",
                "ax.plot(frame['DATE'], frame['SPEED'], marker ='o', linestyle='--', color='r')\r\n",
                "ax.set_xlabel(\"Time (months)\")\r\n",
                "ax.set_ylabel(\"km/h\")\r\n",
                "#ax.plot(frame['DATE'], frame['WHEELBASE'])\r\n",
                "date_form = DateFormatter(\"%y-%d\")\r\n",
                "ax.xaxis.set_major_formatter(date_form)\r\n",
                "plt.show()"
            ],
            "outputs": [
                {
                    "output_type": "display_data",
                    "data": {
                        "image/png": "[encoded data removed]",
                        "text/plain": [
                            "<Figure size 432x288 with 1 Axes>"
                        ]
                    },
                    "metadata": {
                        "needs_background": "light"
                    }
                }
            ],
            "metadata": {}
        }
    ],
    "metadata": {
        "orig_nbformat": 4,
        "language_info": {
            "name": "python",
            "version": "3.8.10",
            "mimetype": "text/x-python",
            "codemirror_mode": {
                "name": "ipython",
                "version": 3
            },
            "pygments_lexer": "ipython3",
            "nbconvert_exporter": "python",
            "file_extension": ".py"
        },
        "kernelspec": {
            "name": "python3",
            "display_name": "Python 3.8.10 64-bit (conda)"
        },
        "interpreter": {
            "hash": "c9ef81f4f4008b420fa41d499847880327327d4b35d0c3c697a108657dcdcb48"
        }
    },
    "nbformat": 4,
    "nbformat_minor": 2
}