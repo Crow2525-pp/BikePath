{
    "cells": [
        {
            "cell_type": "code",
            "execution_count": 54,
            "metadata": {},
            "outputs": [],
            "source": [
                "import requests\n",
                "import pandas as pd\n",
                "import matplotlib.pyplot as plt\n",
                "import matplotlib.dates as mdates\n",
                "from matplotlib.dates import DateFormatter\n",
                "import os\n",
                "import glob\n",
                "import re\n",
                "import io\n",
                "import zipfile\n",
                "from itertools import islice"
            ]
        },
        {
            "cell_type": "code",
            "execution_count": 55,
            "metadata": {},
            "outputs": [],
            "source": [
                "#Header Data\n",
                "VicRoadsHeader_URL = 'https://vicroadsopendatastorehouse.vicroads.vic.gov.au/opendata/Traffic_Measurement/Bicycle_Volume_and_Speed/VicRoads_Bike_Site_Number_Listing.xlsx'\n",
                "\n",
                "#Yearly Data\n",
                "Bicycle_Vol = {'Bicycle_Vol_2022_URL' : 'https://vicroadsopendatastorehouse.vicroads.vic.gov.au/opendata/Traffic_Measurement/Bicycle_Volume_and_Speed/Bicycle_Volume_Speed_2022.zip',\n",
                "               'Bicycle_Vol_2021_URL' : 'https://vicroadsopendatastorehouse.vicroads.vic.gov.au/opendata/Traffic_Measurement/Bicycle_Volume_and_Speed/Bicycle_Volume_Speed_2021.zip',\n",
                "               'Bicycle_Vol_2020_URL' : 'https://vicroadsopendatastorehouse.vicroads.vic.gov.au/opendata/Traffic_Measurement/Bicycle_Volume_and_Speed/Bicycle_Volume_Speed_2020.zip',\n",
                "               'Bicycle_Vol_2019_URL' : 'https://vicroadsopendatastorehouse.vicroads.vic.gov.au/opendata/Traffic_Measurement/Bicycle_Volume_and_Speed/Bicycle_Volume_Speed_2019.zip',\n",
                "               'Bicycle_Vol_2018_URL' : 'https://vicroadsopendatastorehouse.vicroads.vic.gov.au/opendata/Traffic_Measurement/Bicycle_Volume_and_Speed/Bicycle_Volume_Speed_2018.zip',\n",
                "               'Bicycle_Vol_2017_URL' : 'https://vicroadsopendatastorehouse.vicroads.vic.gov.au/opendata/Traffic_Measurement/Bicycle_Volume_and_Speed/Bicycle_Volume_Speed_2017.zip',\n",
                "               'Bicycle_Vol_2016_URL' : 'https://vicroadsopendatastorehouse.vicroads.vic.gov.au/opendata/Traffic_Measurement/Bicycle_Volume_and_Speed/Bicycle_Volume_Speed_2016.zip',\n",
                "               'Bicycle_Vol_2015_URL' : 'https://vicroadsopendatastorehouse.vicroads.vic.gov.au/opendata/Traffic_Measurement/Bicycle_Volume_and_Speed/Bicycle_Volume_speed_2015.zip'}"
            ]
        },
        {
            "cell_type": "code",
            "execution_count": 56,
            "metadata": {},
            "outputs": [
                {
                    "name": "stdout",
                    "output_type": "stream",
                    "text": [
                        "Home file = c:\\Users\\Study\\Documents\\Projects\\Bike Paths\\BikePath\n"
                    ]
                }
            ],
            "source": [
                "#create folders for storing data\n",
                "\n",
                "#ensure home directory is the home director of this program (i.e. c:\\Users\\Study\\Documents\\Github)...  Not  sure what this does, but sounded good so added it.\n",
                "os.chdir(os.getcwd())\n",
                "home = os.getcwd()\n",
                "print(\"Home file = \" + home)\n",
                "\n",
                "#create folder called data in the home dir\n",
                "datafolder = os.path.join(home,'data') \n",
                "if os.path.exists(datafolder) == False:\n",
                "    os.mkdir(datafolder)\n",
                "    print(\"Made directory = \" + datafolder)\n",
                "\n",
                "#create folder called zip in the data dir\n",
                "zipfolder = os.path.join(datafolder, 'zip') \n",
                "if os.path.exists(zipfolder) == False:\n",
                "    os.mkdir(zipfolder)\n",
                "    print(\"Made directory = \" + zipfolder)\n",
                "\n",
                "#create folder called extracted in the data dir\n",
                "extractedFolder = os.path.join(datafolder, 'extracted') \n",
                "if os.path.exists(extractedFolder) == False:\n",
                "    os.mkdir(extractedFolder)\n",
                "    print(\"Made directory = \" + extractedFolder)"
            ]
        },
        {
            "cell_type": "code",
            "execution_count": 57,
            "metadata": {},
            "outputs": [
                {
                    "name": "stdout",
                    "output_type": "stream",
                    "text": [
                        "File Saved = c:\\Users\\Study\\Documents\\Projects\\Bike Paths\\BikePath\\data\\VicRoadsHeader.xlsx\n"
                    ]
                }
            ],
            "source": [
                "#download header and write it to header excel file\n",
                "Header = requests.get(VicRoadsHeader_URL)\n",
                "saveFile = os.path.join(datafolder, 'VicRoadsHeader.xlsx')\n",
                "\n",
                "with open(saveFile,'wb') as output:\n",
                "        output.write(Header.content)\n",
                "        print(\"File Saved = \" + saveFile)"
            ]
        },
        {
            "cell_type": "code",
            "execution_count": 58,
            "metadata": {},
            "outputs": [
                {
                    "name": "stdout",
                    "output_type": "stream",
                    "text": [
                        "   SITE_ID  TFM_ID  STRT_LAT  STRT_LONG                       GPS  SITE_NAME  \\\n",
                        "0     6411   59437 -37.77231  144.99042  [-37.772347 +144.990631]  D208X6411   \n",
                        "1     6411   59438 -37.77235  144.99077  [-37.772347 +144.990631]  D208X6411   \n",
                        "2     6415   59485 -37.82713  144.98511  [-37.827009 +144.984261]  D208X6415   \n",
                        "3     6415   59486 -37.82714  144.98513  [-37.827009 +144.984261]  D208X6415   \n",
                        "4     6419   59458 -37.75829  144.98039  [-37.758216 +144.980308]  D208X6419   \n",
                        "\n",
                        "                                            TFM_DESC BEARING_DESC DATA_SRC_CD  \\\n",
                        "0  (BIKE PATH) ST. GEORGES RD N BD 28M S OF SUMNE...  NORTH BOUND       ACBYC   \n",
                        "1  (BIKE PATH) ST. GEORGES RD S BD 28M S OF SUMNE...  SOUTH BOUND       ACBYC   \n",
                        "2  (BIKE PATH) NORTH BANK E BD 75M W OF MORELL BR...   EAST BOUND       ACBYC   \n",
                        "3  (BIKE PATH) NORTH BANK W BD 75M W OF MORELL BR...   WEST BOUND       ACBYC   \n",
                        "4  (BIKE PATH) MERRI CREEK TRAIL N BD S OF MORELA...  NORTH BOUND       ACBYC   \n",
                        "\n",
                        "       RGN_SHORT_NM                     Comments  \n",
                        "0  METRO NORTH WEST  COMBINED BIDIRECTIONAL SITE  \n",
                        "1  METRO NORTH WEST  COMBINED BIDIRECTIONAL SITE  \n",
                        "2  METRO NORTH WEST  COMBINED BIDIRECTIONAL SITE  \n",
                        "3  METRO NORTH WEST  COMBINED BIDIRECTIONAL SITE  \n",
                        "4  METRO NORTH WEST  COMBINED BIDIRECTIONAL SITE  \n"
                    ]
                }
            ],
            "source": [
                "#read the first lines of VicRoads Header File\n",
                "df = pd.read_excel(saveFile)\n",
                "print(df.head())\n",
                "\n",
                "#Join Header Keys to Data files;\n",
                "#Header.SITE_NAME = file.TIS_DATA_REQUEST + \"X\" + file.SITE_XN_ROUTE\n",
                "#Header.TFM_ID = file.LOC_LEG"
            ]
        },
        {
            "cell_type": "code",
            "execution_count": 59,
            "metadata": {},
            "outputs": [
                {
                    "name": "stdout",
                    "output_type": "stream",
                    "text": [
                        "Dictionary file, [Name, Zip File] =  [('Bicycle_Vol_2022_URL', 'https://vicroadsopendatastorehouse.vicroads.vic.gov.au/opendata/Traffic_Measurement/Bicycle_Volume_and_Speed/Bicycle_Volume_Speed_2022.zip'), ('Bicycle_Vol_2021_URL', 'https://vicroadsopendatastorehouse.vicroads.vic.gov.au/opendata/Traffic_Measurement/Bicycle_Volume_and_Speed/Bicycle_Volume_Speed_2021.zip'), ('Bicycle_Vol_2020_URL', 'https://vicroadsopendatastorehouse.vicroads.vic.gov.au/opendata/Traffic_Measurement/Bicycle_Volume_and_Speed/Bicycle_Volume_Speed_2020.zip'), ('Bicycle_Vol_2019_URL', 'https://vicroadsopendatastorehouse.vicroads.vic.gov.au/opendata/Traffic_Measurement/Bicycle_Volume_and_Speed/Bicycle_Volume_Speed_2019.zip'), ('Bicycle_Vol_2018_URL', 'https://vicroadsopendatastorehouse.vicroads.vic.gov.au/opendata/Traffic_Measurement/Bicycle_Volume_and_Speed/Bicycle_Volume_Speed_2018.zip'), ('Bicycle_Vol_2017_URL', 'https://vicroadsopendatastorehouse.vicroads.vic.gov.au/opendata/Traffic_Measurement/Bicycle_Volume_and_Speed/Bicycle_Volume_Speed_2017.zip'), ('Bicycle_Vol_2016_URL', 'https://vicroadsopendatastorehouse.vicroads.vic.gov.au/opendata/Traffic_Measurement/Bicycle_Volume_and_Speed/Bicycle_Volume_Speed_2016.zip'), ('Bicycle_Vol_2015_URL', 'https://vicroadsopendatastorehouse.vicroads.vic.gov.au/opendata/Traffic_Measurement/Bicycle_Volume_and_Speed/Bicycle_Volume_speed_2015.zip')]\n",
                        "File Saved = c:\\Users\\Study\\Documents\\Projects\\Bike Paths\\BikePath\\data\\zip\\Bicycle_Volume_Speed_2022.zip\n",
                        "File Saved = c:\\Users\\Study\\Documents\\Projects\\Bike Paths\\BikePath\\data\\zip\\Bicycle_Volume_Speed_2021.zip\n",
                        "File Saved = c:\\Users\\Study\\Documents\\Projects\\Bike Paths\\BikePath\\data\\zip\\Bicycle_Volume_Speed_2020.zip\n",
                        "File Saved = c:\\Users\\Study\\Documents\\Projects\\Bike Paths\\BikePath\\data\\zip\\Bicycle_Volume_Speed_2019.zip\n",
                        "File Saved = c:\\Users\\Study\\Documents\\Projects\\Bike Paths\\BikePath\\data\\zip\\Bicycle_Volume_Speed_2018.zip\n",
                        "File Saved = c:\\Users\\Study\\Documents\\Projects\\Bike Paths\\BikePath\\data\\zip\\Bicycle_Volume_Speed_2017.zip\n",
                        "File Saved = c:\\Users\\Study\\Documents\\Projects\\Bike Paths\\BikePath\\data\\zip\\Bicycle_Volume_Speed_2016.zip\n",
                        "File Saved = c:\\Users\\Study\\Documents\\Projects\\Bike Paths\\BikePath\\data\\zip\\Bicycle_Volume_speed_2015.zip\n"
                    ]
                }
            ],
            "source": [
                "#Download the zip files\n",
                "#move on to the data files\n",
                "#create an empty list to idenitfy the list zips once created.\n",
                "Bicycle_Vol_Zip_Files = []\n",
                "\n",
                "#subset the list to just one zip file for testing purposes\n",
                "#[Testing routine - replace n_items with Bicycle_Vol.items(); review additional comment, below, in dictionary creation - key,value line - section]\n",
                "def take(n, iterable):\n",
                "    \"Return first n items of the iterable as a list\"\n",
                "    return list(islice(iterable, n))\n",
                "\n",
                "n_items = take(8, Bicycle_Vol.items()) \n",
                "#[end of testing routine. instructions above to remove testing]\n",
                "\n",
                "print(\"Dictionary file, [Name, Zip File] = \", n_items) \n",
                "\n",
                "#download zips from website and label using as subset of the dictionary for the URLs  \n",
                "for key, url in n_items: #replace n_items with Bicycle_Vol.items() when testing is resolved\n",
                "    \n",
                "    from urllib.parse import urlparse\n",
                "    saveFile = os.path.join(zipfolder, os.path.basename(urlparse(url).path)) \n",
                "    \n",
                "    resp = requests.get(url) #download the zip file\n",
                "    with open(saveFile,'wb') as output:\n",
                "        output.write(resp.content)\n",
                "        print(\"File Saved = \" + saveFile)\n",
                "\n",
                "        Bicycle_Vol_Zip_Files.append(saveFile) #Populate the empty list with filenames."
            ]
        },
        {
            "cell_type": "code",
            "execution_count": 60,
            "metadata": {},
            "outputs": [],
            "source": [
                "#Nested Zip Function V1 (not working as well)\n",
                "\n",
                "def extract_nested_zip(TargetFile, SourceFolder, DestinationFolder):\n",
                "       #Unzip a zip file and its contents, including nested zip files\n",
                "       # Delete the zip file(s) after extraction \n",
                "       # Credit - Stackoverflow - ronnydw answered May 10 '17 at 14:47\n",
                "    \n",
                "    #print(\"Opening File =\" + zippedFile + \" | Extracting to Folder = \" +  datafolder)\n",
                "    \n",
                "    with zipfile.ZipFile(TargetFile, 'r') as zfile:\n",
                "        print(zfile.namelist())\n",
                "        zfile.extractall(path=DestinationFolder)\n",
                "    #os.remove(TargetFile) #Delete the zip once extracted. This is required as the routine repeats until it doesn't find a zip file.\n",
                "\n",
                "        #search the dir for zips and send it back to the start of the function.\n",
                "    for root, dirs, files in os.walk(SourceFolder):\n",
                "        for filename in files:\n",
                "            #print(os.path.join(datafolder, filename))\n",
                "            if re.search(r'zip$', filename):\n",
                "                fileSpec = os.path.join(root, filename)\n",
                "                try:\n",
                "                    #print(fileSpec)\n",
                "                    extract_nested_zip(fileSpec, root)\n",
                "                except:\n",
                "                    #print(\"Error! - Couldn't find the file: \" + zippedFile)  \n",
                "                    break      #Many errors thrown as the routine is too quick and doesn't wait for the zip file to be extracted before it goes again."
            ]
        },
        {
            "cell_type": "code",
            "execution_count": 61,
            "metadata": {},
            "outputs": [],
            "source": [
                "#Nested Zip Function V2\n",
                "#https://stackoverflow.com/questions/36285502/how-to-extract-zip-file-recursively\n",
                "#credit to Forge - 29/03/2016\n",
                "\n",
                "def extract_nested_zip_v2(filename, DestinationPath):\n",
                "    z = zipfile.ZipFile(filename)\n",
                "    for f in z.namelist():\n",
                "        # get directory name from file\n",
                "        dirname = os.path.join(DestinationPath, os.path.splitext(f)[0]) # this line of code is drawining an error.  Suspect it is because python uses linx / and zip is using \\ for their internal folder strcutre.\n",
                "        # create new directory\n",
                "        if os.path.exists(dirname) == False:\n",
                "            os.mkdir(dirname)\n",
                "        # read inner zip file into bytes buffer \n",
                "        content = io.BytesIO(z.read(f))\n",
                "        zip_file = zipfile.ZipFile(content)\n",
                "        \n",
                "        for i in zip_file.namelist():\n",
                "            zip_file.extract(i, dirname)\n",
                "        "
            ]
        },
        {
            "cell_type": "code",
            "execution_count": 62,
            "metadata": {},
            "outputs": [
                {
                    "ename": "FileNotFoundError",
                    "evalue": "[WinError 3] The system cannot find the path specified: 'c:\\\\Users\\\\Study\\\\Documents\\\\Projects\\\\Bike Paths\\\\BikePath\\\\data\\\\extracted\\\\Bicycle_Volume_Speed_2018/2018-01-03_IND'",
                    "output_type": "error",
                    "traceback": [
                        "\u001b[1;31m---------------------------------------------------------------------------\u001b[0m",
                        "\u001b[1;31mFileNotFoundError\u001b[0m                         Traceback (most recent call last)",
                        "\u001b[1;32mc:\\Users\\Study\\Documents\\Projects\\Bike Paths\\BikePath\\BikePath.ipynb Cell 9'\u001b[0m in \u001b[0;36m<cell line: 2>\u001b[1;34m()\u001b[0m\n\u001b[0;32m      <a href='vscode-notebook-cell:/c%3A/Users/Study/Documents/Projects/Bike%20Paths/BikePath/BikePath.ipynb#ch0000007?line=0'>1</a>\u001b[0m \u001b[39m#extract all data into the data folder.  Delete all zips and keep going until there are no more zips.\u001b[39;00m\n\u001b[0;32m      <a href='vscode-notebook-cell:/c%3A/Users/Study/Documents/Projects/Bike%20Paths/BikePath/BikePath.ipynb#ch0000007?line=1'>2</a>\u001b[0m \u001b[39mfor\u001b[39;00m File \u001b[39min\u001b[39;00m Bicycle_Vol_Zip_Files:\n\u001b[1;32m----> <a href='vscode-notebook-cell:/c%3A/Users/Study/Documents/Projects/Bike%20Paths/BikePath/BikePath.ipynb#ch0000007?line=2'>3</a>\u001b[0m     extract_nested_zip_v2(File, extractedFolder)\n",
                        "\u001b[1;32mc:\\Users\\Study\\Documents\\Projects\\Bike Paths\\BikePath\\BikePath.ipynb Cell 8'\u001b[0m in \u001b[0;36mextract_nested_zip_v2\u001b[1;34m(filename, DestinationPath)\u001b[0m\n\u001b[0;32m     <a href='vscode-notebook-cell:/c%3A/Users/Study/Documents/Projects/Bike%20Paths/BikePath/BikePath.ipynb#ch0000016?line=9'>10</a>\u001b[0m \u001b[39m# create new directory\u001b[39;00m\n\u001b[0;32m     <a href='vscode-notebook-cell:/c%3A/Users/Study/Documents/Projects/Bike%20Paths/BikePath/BikePath.ipynb#ch0000016?line=10'>11</a>\u001b[0m \u001b[39mif\u001b[39;00m os\u001b[39m.\u001b[39mpath\u001b[39m.\u001b[39mexists(dirname) \u001b[39m==\u001b[39m \u001b[39mFalse\u001b[39;00m:\n\u001b[1;32m---> <a href='vscode-notebook-cell:/c%3A/Users/Study/Documents/Projects/Bike%20Paths/BikePath/BikePath.ipynb#ch0000016?line=11'>12</a>\u001b[0m     os\u001b[39m.\u001b[39;49mmkdir(dirname)\n\u001b[0;32m     <a href='vscode-notebook-cell:/c%3A/Users/Study/Documents/Projects/Bike%20Paths/BikePath/BikePath.ipynb#ch0000016?line=12'>13</a>\u001b[0m \u001b[39m# read inner zip file into bytes buffer \u001b[39;00m\n\u001b[0;32m     <a href='vscode-notebook-cell:/c%3A/Users/Study/Documents/Projects/Bike%20Paths/BikePath/BikePath.ipynb#ch0000016?line=13'>14</a>\u001b[0m content \u001b[39m=\u001b[39m io\u001b[39m.\u001b[39mBytesIO(z\u001b[39m.\u001b[39mread(f))\n",
                        "\u001b[1;31mFileNotFoundError\u001b[0m: [WinError 3] The system cannot find the path specified: 'c:\\\\Users\\\\Study\\\\Documents\\\\Projects\\\\Bike Paths\\\\BikePath\\\\data\\\\extracted\\\\Bicycle_Volume_Speed_2018/2018-01-03_IND'"
                    ]
                }
            ],
            "source": [
                "#extract all data into the data folder.  Delete all zips and keep going until there are no more zips.\n",
                "for File in Bicycle_Vol_Zip_Files:\n",
                "    extract_nested_zip_v2(File, extractedFolder)"
            ]
        },
        {
            "cell_type": "code",
            "execution_count": null,
            "metadata": {},
            "outputs": [],
            "source": [
                "#clean up any CSV files that don't have an extension and make it a CSV file\n",
                "for root, dirs, files in os.walk(extractedFolder):\n",
                "    for filename in files:\n",
                "        filename_ext = os.path.splitext(filename)[1]\n",
                "        if re.search('\\d', filename_ext):  #check the extension for numbers to identify bad data files with numbers as extensions\n",
                "            filename.replace(\".csv.\",\"_\") #remove csv from this extension\n",
                "            try:\n",
                "                os.rename(os.path.join(datafolder,filename), os.path.join(datafolder,filename + '.csv'))\n",
                "            except:\n",
                "                print(\"Error! - Couldn't rename: \" + os.path.join(datafolder,filename))"
            ]
        },
        {
            "cell_type": "code",
            "execution_count": null,
            "metadata": {},
            "outputs": [],
            "source": [
                "#join all CSV's into a dataframe\n",
                "all_files = glob.glob(extractedFolder + \"/*.csv\", recursive=True)\n",
                "\n",
                "li = []\n",
                "\n",
                "for filename in all_files:\n",
                "    df = pd.read_csv(filename, index_col=None, header=0)\n",
                "    li.append(df)\n",
                "\n",
                "frame = pd.concat(li, axis=0, ignore_index=True)"
            ]
        },
        {
            "cell_type": "code",
            "execution_count": null,
            "metadata": {},
            "outputs": [],
            "source": [
                "print(frame.head())\n"
            ]
        },
        {
            "cell_type": "code",
            "execution_count": null,
            "metadata": {},
            "outputs": [],
            "source": [
                "frame.describe()"
            ]
        },
        {
            "cell_type": "markdown",
            "metadata": {},
            "source": [
                "So... this data shows we have 7.63M rows of data. Some data is not consistent across all files.  So we might have incomplete files.  This is only one year too...\n",
                "How do i ensure I don't have duplicates that have gone through at the same time?  This would be likely given my numbers.  Speed looks OK - Average speed is 20.99213, but min is 2, Max is 15.92.  Why...  Need to split up months/dates\n",
                "How cool would it be to see a map of melbourne and see a blink every time a bike went past a counter?\n",
                "How many people are recorded at different areas and disappear from the next likely stop?  What are the possibilities for those people?  Stop at the shops?  Go an alterative or more dangerous/non-bike path route?"
            ]
        },
        {
            "cell_type": "code",
            "execution_count": null,
            "metadata": {},
            "outputs": [],
            "source": [
                "#frame['VEHICLE'].describe() \n",
                "frame['DATE'].describe()"
            ]
        },
        {
            "cell_type": "code",
            "execution_count": null,
            "metadata": {},
            "outputs": [],
            "source": [
                "frame['DATE'] = pd.to_datetime(frame['DATE'])\n",
                "speeddf = frame.groupby(frame['DATE'].dt.strftime('%B'))['SPEED'].mean()\n",
                "#need to add median, std, top 25, count, top 75, max"
            ]
        },
        {
            "cell_type": "code",
            "execution_count": null,
            "metadata": {},
            "outputs": [],
            "source": [
                "fig, ax = plt.subplots()\n",
                "#ax.plot(speeddf['DATE'], speeddf['SPEED'], marker ='o', linestyle='--', color='r')\n",
                "ax.plot(frame['DATE'], frame['SPEED'])\n",
                "ax.set_xlabel(\"YY-MM\")\n",
                "ax.set_ylabel(\"Speed\")\n",
                "date_form = DateFormatter(\"%y-%d\")\n",
                "ax.xaxis.set_major_formatter(date_form)\n",
                "plt.show()"
            ]
        }
    ],
    "metadata": {
        "interpreter": {
            "hash": "c9ef81f4f4008b420fa41d499847880327327d4b35d0c3c697a108657dcdcb48"
        },
        "kernelspec": {
            "display_name": "Python 3.8.10 64-bit (conda)",
            "name": "python3"
        },
        "language_info": {
            "codemirror_mode": {
                "name": "ipython",
                "version": 3
            },
            "file_extension": ".py",
            "mimetype": "text/x-python",
            "name": "python",
            "nbconvert_exporter": "python",
            "pygments_lexer": "ipython3",
            "version": "3.8.12"
        },
        "orig_nbformat": 4
    },
    "nbformat": 4,
    "nbformat_minor": 2
}
